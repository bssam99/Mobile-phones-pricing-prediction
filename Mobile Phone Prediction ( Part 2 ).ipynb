{
 "cells": [
  {
   "cell_type": "markdown",
   "id": "dc9c348e",
   "metadata": {},
   "source": [
    "## Define Our Packeges"
   ]
  },
  {
   "cell_type": "code",
   "execution_count": 109,
   "id": "39822407",
   "metadata": {
    "ExecuteTime": {
     "end_time": "2024-06-19T12:07:44.108680Z",
     "start_time": "2024-06-19T12:07:44.098686Z"
    }
   },
   "outputs": [],
   "source": [
    "import pandas as pd\n",
    "import matplotlib.pyplot as plt\n",
    "import statsmodels as sm\n",
    "import seaborn as sns\n",
    "import numpy as np\n",
    "from sklearn.preprocessing import StandardScaler\n",
    "from sklearn.linear_model import LinearRegression\n",
    "from sklearn.model_selection import train_test_split\n",
    "from statsmodels.stats.outliers_influence import variance_inflation_factor\n",
    "import statsmodels.api as sm\n",
    "from sklearn.feature_selection import f_regression\n",
    "import re\n",
    "import csv\n",
    "sns.set()"
   ]
  },
  {
   "cell_type": "markdown",
   "id": "372ab542",
   "metadata": {},
   "source": [
    "## Load the Data"
   ]
  },
  {
   "cell_type": "code",
   "execution_count": 121,
   "id": "891f311c",
   "metadata": {
    "ExecuteTime": {
     "end_time": "2024-06-19T12:55:06.022642Z",
     "start_time": "2024-06-19T12:55:05.981842Z"
    }
   },
   "outputs": [
    {
     "data": {
      "text/html": [
       "<div>\n",
       "<style scoped>\n",
       "    .dataframe tbody tr th:only-of-type {\n",
       "        vertical-align: middle;\n",
       "    }\n",
       "\n",
       "    .dataframe tbody tr th {\n",
       "        vertical-align: top;\n",
       "    }\n",
       "\n",
       "    .dataframe thead th {\n",
       "        text-align: right;\n",
       "    }\n",
       "</style>\n",
       "<table border=\"1\" class=\"dataframe\">\n",
       "  <thead>\n",
       "    <tr style=\"text-align: right;\">\n",
       "      <th></th>\n",
       "      <th>Unnamed: 0</th>\n",
       "      <th>Rating</th>\n",
       "      <th>Spec_score</th>\n",
       "      <th>No_of_sim</th>\n",
       "      <th>Ram</th>\n",
       "      <th>Battery</th>\n",
       "      <th>Display</th>\n",
       "      <th>Camera</th>\n",
       "      <th>External_Memory</th>\n",
       "      <th>Price</th>\n",
       "      <th>company</th>\n",
       "      <th>Inbuilt_memory</th>\n",
       "      <th>fast_charging</th>\n",
       "      <th>Screen_resolution</th>\n",
       "    </tr>\n",
       "  </thead>\n",
       "  <tbody>\n",
       "    <tr>\n",
       "      <th>0</th>\n",
       "      <td>0</td>\n",
       "      <td>4.65</td>\n",
       "      <td>68</td>\n",
       "      <td>5</td>\n",
       "      <td>4</td>\n",
       "      <td>6000</td>\n",
       "      <td>6.6</td>\n",
       "      <td>65</td>\n",
       "      <td>1000</td>\n",
       "      <td>9999</td>\n",
       "      <td>samsung</td>\n",
       "      <td>128</td>\n",
       "      <td>25</td>\n",
       "      <td>2600640</td>\n",
       "    </tr>\n",
       "    <tr>\n",
       "      <th>1</th>\n",
       "      <td>1</td>\n",
       "      <td>4.20</td>\n",
       "      <td>63</td>\n",
       "      <td>4</td>\n",
       "      <td>2</td>\n",
       "      <td>4000</td>\n",
       "      <td>6.4</td>\n",
       "      <td>28</td>\n",
       "      <td>512</td>\n",
       "      <td>9990</td>\n",
       "      <td>samsung</td>\n",
       "      <td>32</td>\n",
       "      <td>15</td>\n",
       "      <td>1123200</td>\n",
       "    </tr>\n",
       "    <tr>\n",
       "      <th>2</th>\n",
       "      <td>2</td>\n",
       "      <td>4.30</td>\n",
       "      <td>75</td>\n",
       "      <td>4</td>\n",
       "      <td>4</td>\n",
       "      <td>5000</td>\n",
       "      <td>6.6</td>\n",
       "      <td>58</td>\n",
       "      <td>1000</td>\n",
       "      <td>11999</td>\n",
       "      <td>samsung</td>\n",
       "      <td>64</td>\n",
       "      <td>25</td>\n",
       "      <td>2600640</td>\n",
       "    </tr>\n",
       "    <tr>\n",
       "      <th>3</th>\n",
       "      <td>3</td>\n",
       "      <td>4.10</td>\n",
       "      <td>69</td>\n",
       "      <td>4</td>\n",
       "      <td>4</td>\n",
       "      <td>5000</td>\n",
       "      <td>6.5</td>\n",
       "      <td>22</td>\n",
       "      <td>1000</td>\n",
       "      <td>11999</td>\n",
       "      <td>samsung</td>\n",
       "      <td>64</td>\n",
       "      <td>15</td>\n",
       "      <td>1152000</td>\n",
       "    </tr>\n",
       "    <tr>\n",
       "      <th>4</th>\n",
       "      <td>4</td>\n",
       "      <td>4.40</td>\n",
       "      <td>75</td>\n",
       "      <td>5</td>\n",
       "      <td>6</td>\n",
       "      <td>5000</td>\n",
       "      <td>6.5</td>\n",
       "      <td>57</td>\n",
       "      <td>1000</td>\n",
       "      <td>11990</td>\n",
       "      <td>samsung</td>\n",
       "      <td>128</td>\n",
       "      <td>15</td>\n",
       "      <td>1152000</td>\n",
       "    </tr>\n",
       "    <tr>\n",
       "      <th>...</th>\n",
       "      <td>...</td>\n",
       "      <td>...</td>\n",
       "      <td>...</td>\n",
       "      <td>...</td>\n",
       "      <td>...</td>\n",
       "      <td>...</td>\n",
       "      <td>...</td>\n",
       "      <td>...</td>\n",
       "      <td>...</td>\n",
       "      <td>...</td>\n",
       "      <td>...</td>\n",
       "      <td>...</td>\n",
       "      <td>...</td>\n",
       "      <td>...</td>\n",
       "    </tr>\n",
       "    <tr>\n",
       "      <th>1217</th>\n",
       "      <td>1217</td>\n",
       "      <td>4.05</td>\n",
       "      <td>75</td>\n",
       "      <td>5</td>\n",
       "      <td>4</td>\n",
       "      <td>5000</td>\n",
       "      <td>6.6</td>\n",
       "      <td>62</td>\n",
       "      <td>256</td>\n",
       "      <td>18999</td>\n",
       "      <td>tcl</td>\n",
       "      <td>64</td>\n",
       "      <td>15</td>\n",
       "      <td>1160640</td>\n",
       "    </tr>\n",
       "    <tr>\n",
       "      <th>1218</th>\n",
       "      <td>1218</td>\n",
       "      <td>4.10</td>\n",
       "      <td>80</td>\n",
       "      <td>4</td>\n",
       "      <td>8</td>\n",
       "      <td>5000</td>\n",
       "      <td>6.8</td>\n",
       "      <td>68</td>\n",
       "      <td>256</td>\n",
       "      <td>24990</td>\n",
       "      <td>tcl</td>\n",
       "      <td>128</td>\n",
       "      <td>33</td>\n",
       "      <td>2880000</td>\n",
       "    </tr>\n",
       "    <tr>\n",
       "      <th>1219</th>\n",
       "      <td>1219</td>\n",
       "      <td>4.00</td>\n",
       "      <td>80</td>\n",
       "      <td>5</td>\n",
       "      <td>6</td>\n",
       "      <td>5000</td>\n",
       "      <td>6.6</td>\n",
       "      <td>68</td>\n",
       "      <td>1000</td>\n",
       "      <td>23990</td>\n",
       "      <td>tcl</td>\n",
       "      <td>256</td>\n",
       "      <td>18</td>\n",
       "      <td>1160640</td>\n",
       "    </tr>\n",
       "    <tr>\n",
       "      <th>1220</th>\n",
       "      <td>1220</td>\n",
       "      <td>4.50</td>\n",
       "      <td>79</td>\n",
       "      <td>5</td>\n",
       "      <td>6</td>\n",
       "      <td>5000</td>\n",
       "      <td>6.6</td>\n",
       "      <td>62</td>\n",
       "      <td>1000</td>\n",
       "      <td>22499</td>\n",
       "      <td>tcl</td>\n",
       "      <td>256</td>\n",
       "      <td>15</td>\n",
       "      <td>1160640</td>\n",
       "    </tr>\n",
       "    <tr>\n",
       "      <th>1221</th>\n",
       "      <td>1221</td>\n",
       "      <td>4.65</td>\n",
       "      <td>93</td>\n",
       "      <td>6</td>\n",
       "      <td>12</td>\n",
       "      <td>4600</td>\n",
       "      <td>10.0</td>\n",
       "      <td>138</td>\n",
       "      <td>0</td>\n",
       "      <td>119990</td>\n",
       "      <td>tcl</td>\n",
       "      <td>256</td>\n",
       "      <td>67</td>\n",
       "      <td>4138560</td>\n",
       "    </tr>\n",
       "  </tbody>\n",
       "</table>\n",
       "<p>1222 rows × 14 columns</p>\n",
       "</div>"
      ],
      "text/plain": [
       "      Unnamed: 0  Rating  Spec_score  No_of_sim  Ram  Battery  Display  \\\n",
       "0              0    4.65          68          5    4     6000      6.6   \n",
       "1              1    4.20          63          4    2     4000      6.4   \n",
       "2              2    4.30          75          4    4     5000      6.6   \n",
       "3              3    4.10          69          4    4     5000      6.5   \n",
       "4              4    4.40          75          5    6     5000      6.5   \n",
       "...          ...     ...         ...        ...  ...      ...      ...   \n",
       "1217        1217    4.05          75          5    4     5000      6.6   \n",
       "1218        1218    4.10          80          4    8     5000      6.8   \n",
       "1219        1219    4.00          80          5    6     5000      6.6   \n",
       "1220        1220    4.50          79          5    6     5000      6.6   \n",
       "1221        1221    4.65          93          6   12     4600     10.0   \n",
       "\n",
       "      Camera  External_Memory   Price  company  Inbuilt_memory  fast_charging  \\\n",
       "0         65             1000    9999  samsung             128             25   \n",
       "1         28              512    9990  samsung              32             15   \n",
       "2         58             1000   11999  samsung              64             25   \n",
       "3         22             1000   11999  samsung              64             15   \n",
       "4         57             1000   11990  samsung             128             15   \n",
       "...      ...              ...     ...      ...             ...            ...   \n",
       "1217      62              256   18999      tcl              64             15   \n",
       "1218      68              256   24990      tcl             128             33   \n",
       "1219      68             1000   23990      tcl             256             18   \n",
       "1220      62             1000   22499      tcl             256             15   \n",
       "1221     138                0  119990      tcl             256             67   \n",
       "\n",
       "      Screen_resolution  \n",
       "0               2600640  \n",
       "1               1123200  \n",
       "2               2600640  \n",
       "3               1152000  \n",
       "4               1152000  \n",
       "...                 ...  \n",
       "1217            1160640  \n",
       "1218            2880000  \n",
       "1219            1160640  \n",
       "1220            1160640  \n",
       "1221            4138560  \n",
       "\n",
       "[1222 rows x 14 columns]"
      ]
     },
     "execution_count": 121,
     "metadata": {},
     "output_type": "execute_result"
    }
   ],
   "source": [
    "data = pd.read_csv(r\"C:\\Users\\bssam\\Downloads\\data_preprcessed.csv\")\n",
    "data"
   ]
  },
  {
   "cell_type": "markdown",
   "id": "3c427ab0",
   "metadata": {},
   "source": [
    "## Drop unneeded Columns"
   ]
  },
  {
   "cell_type": "code",
   "execution_count": 122,
   "id": "8070866a",
   "metadata": {
    "ExecuteTime": {
     "end_time": "2024-06-19T12:55:11.709758Z",
     "start_time": "2024-06-19T12:55:11.701823Z"
    }
   },
   "outputs": [],
   "source": [
    "data = data.drop(['Unnamed: 0'] , axis=1)"
   ]
  },
  {
   "cell_type": "markdown",
   "id": "b7844844",
   "metadata": {},
   "source": [
    "## Show some statistics "
   ]
  },
  {
   "cell_type": "code",
   "execution_count": 123,
   "id": "6170f963",
   "metadata": {
    "ExecuteTime": {
     "end_time": "2024-06-19T12:55:15.197731Z",
     "start_time": "2024-06-19T12:55:15.151577Z"
    }
   },
   "outputs": [
    {
     "data": {
      "text/html": [
       "<div>\n",
       "<style scoped>\n",
       "    .dataframe tbody tr th:only-of-type {\n",
       "        vertical-align: middle;\n",
       "    }\n",
       "\n",
       "    .dataframe tbody tr th {\n",
       "        vertical-align: top;\n",
       "    }\n",
       "\n",
       "    .dataframe thead th {\n",
       "        text-align: right;\n",
       "    }\n",
       "</style>\n",
       "<table border=\"1\" class=\"dataframe\">\n",
       "  <thead>\n",
       "    <tr style=\"text-align: right;\">\n",
       "      <th></th>\n",
       "      <th>Rating</th>\n",
       "      <th>Spec_score</th>\n",
       "      <th>No_of_sim</th>\n",
       "      <th>Ram</th>\n",
       "      <th>Battery</th>\n",
       "      <th>Display</th>\n",
       "      <th>Camera</th>\n",
       "      <th>External_Memory</th>\n",
       "      <th>Price</th>\n",
       "      <th>company</th>\n",
       "      <th>Inbuilt_memory</th>\n",
       "      <th>fast_charging</th>\n",
       "      <th>Screen_resolution</th>\n",
       "    </tr>\n",
       "  </thead>\n",
       "  <tbody>\n",
       "    <tr>\n",
       "      <th>count</th>\n",
       "      <td>1222.000000</td>\n",
       "      <td>1222.000000</td>\n",
       "      <td>1222.000000</td>\n",
       "      <td>1222.000000</td>\n",
       "      <td>1222.000000</td>\n",
       "      <td>1222.000000</td>\n",
       "      <td>1222.000000</td>\n",
       "      <td>1222.000000</td>\n",
       "      <td>1222.000000</td>\n",
       "      <td>1222</td>\n",
       "      <td>1222.000000</td>\n",
       "      <td>1222.000000</td>\n",
       "      <td>1.222000e+03</td>\n",
       "    </tr>\n",
       "    <tr>\n",
       "      <th>unique</th>\n",
       "      <td>NaN</td>\n",
       "      <td>NaN</td>\n",
       "      <td>NaN</td>\n",
       "      <td>NaN</td>\n",
       "      <td>NaN</td>\n",
       "      <td>NaN</td>\n",
       "      <td>NaN</td>\n",
       "      <td>NaN</td>\n",
       "      <td>NaN</td>\n",
       "      <td>21</td>\n",
       "      <td>NaN</td>\n",
       "      <td>NaN</td>\n",
       "      <td>NaN</td>\n",
       "    </tr>\n",
       "    <tr>\n",
       "      <th>top</th>\n",
       "      <td>NaN</td>\n",
       "      <td>NaN</td>\n",
       "      <td>NaN</td>\n",
       "      <td>NaN</td>\n",
       "      <td>NaN</td>\n",
       "      <td>NaN</td>\n",
       "      <td>NaN</td>\n",
       "      <td>NaN</td>\n",
       "      <td>NaN</td>\n",
       "      <td>vivo</td>\n",
       "      <td>NaN</td>\n",
       "      <td>NaN</td>\n",
       "      <td>NaN</td>\n",
       "    </tr>\n",
       "    <tr>\n",
       "      <th>freq</th>\n",
       "      <td>NaN</td>\n",
       "      <td>NaN</td>\n",
       "      <td>NaN</td>\n",
       "      <td>NaN</td>\n",
       "      <td>NaN</td>\n",
       "      <td>NaN</td>\n",
       "      <td>NaN</td>\n",
       "      <td>NaN</td>\n",
       "      <td>NaN</td>\n",
       "      <td>169</td>\n",
       "      <td>NaN</td>\n",
       "      <td>NaN</td>\n",
       "      <td>NaN</td>\n",
       "    </tr>\n",
       "    <tr>\n",
       "      <th>mean</th>\n",
       "      <td>4.377700</td>\n",
       "      <td>81.429624</td>\n",
       "      <td>4.783142</td>\n",
       "      <td>7.965630</td>\n",
       "      <td>4940.207038</td>\n",
       "      <td>6.680327</td>\n",
       "      <td>95.051555</td>\n",
       "      <td>426.919804</td>\n",
       "      <td>34723.023732</td>\n",
       "      <td>NaN</td>\n",
       "      <td>181.036007</td>\n",
       "      <td>51.199673</td>\n",
       "      <td>2.651677e+06</td>\n",
       "    </tr>\n",
       "    <tr>\n",
       "      <th>std</th>\n",
       "      <td>0.228058</td>\n",
       "      <td>7.312127</td>\n",
       "      <td>0.577728</td>\n",
       "      <td>3.139476</td>\n",
       "      <td>507.580909</td>\n",
       "      <td>0.322478</td>\n",
       "      <td>53.780028</td>\n",
       "      <td>539.955346</td>\n",
       "      <td>30887.534367</td>\n",
       "      <td>NaN</td>\n",
       "      <td>113.813749</td>\n",
       "      <td>37.592532</td>\n",
       "      <td>9.445179e+05</td>\n",
       "    </tr>\n",
       "    <tr>\n",
       "      <th>min</th>\n",
       "      <td>3.900000</td>\n",
       "      <td>53.000000</td>\n",
       "      <td>1.000000</td>\n",
       "      <td>2.000000</td>\n",
       "      <td>1050.000000</td>\n",
       "      <td>5.000000</td>\n",
       "      <td>7.000000</td>\n",
       "      <td>0.000000</td>\n",
       "      <td>6950.000000</td>\n",
       "      <td>NaN</td>\n",
       "      <td>32.000000</td>\n",
       "      <td>7.000000</td>\n",
       "      <td>5.896800e+05</td>\n",
       "    </tr>\n",
       "    <tr>\n",
       "      <th>25%</th>\n",
       "      <td>4.200000</td>\n",
       "      <td>76.000000</td>\n",
       "      <td>4.000000</td>\n",
       "      <td>6.000000</td>\n",
       "      <td>4800.000000</td>\n",
       "      <td>6.560000</td>\n",
       "      <td>62.250000</td>\n",
       "      <td>0.000000</td>\n",
       "      <td>13999.000000</td>\n",
       "      <td>NaN</td>\n",
       "      <td>128.000000</td>\n",
       "      <td>20.500000</td>\n",
       "      <td>2.579040e+06</td>\n",
       "    </tr>\n",
       "    <tr>\n",
       "      <th>50%</th>\n",
       "      <td>4.400000</td>\n",
       "      <td>83.000000</td>\n",
       "      <td>5.000000</td>\n",
       "      <td>8.000000</td>\n",
       "      <td>5000.000000</td>\n",
       "      <td>6.670000</td>\n",
       "      <td>81.000000</td>\n",
       "      <td>0.000000</td>\n",
       "      <td>23990.000000</td>\n",
       "      <td>NaN</td>\n",
       "      <td>128.000000</td>\n",
       "      <td>37.500000</td>\n",
       "      <td>2.592000e+06</td>\n",
       "    </tr>\n",
       "    <tr>\n",
       "      <th>75%</th>\n",
       "      <td>4.550000</td>\n",
       "      <td>87.000000</td>\n",
       "      <td>5.000000</td>\n",
       "      <td>8.000000</td>\n",
       "      <td>5000.000000</td>\n",
       "      <td>6.750000</td>\n",
       "      <td>114.000000</td>\n",
       "      <td>1000.000000</td>\n",
       "      <td>43990.000000</td>\n",
       "      <td>NaN</td>\n",
       "      <td>256.000000</td>\n",
       "      <td>67.000000</td>\n",
       "      <td>2.656800e+06</td>\n",
       "    </tr>\n",
       "    <tr>\n",
       "      <th>max</th>\n",
       "      <td>4.750000</td>\n",
       "      <td>98.000000</td>\n",
       "      <td>6.000000</td>\n",
       "      <td>24.000000</td>\n",
       "      <td>7000.000000</td>\n",
       "      <td>12.100000</td>\n",
       "      <td>364.000000</td>\n",
       "      <td>2000.000000</td>\n",
       "      <td>214990.000000</td>\n",
       "      <td>NaN</td>\n",
       "      <td>1000.000000</td>\n",
       "      <td>250.000000</td>\n",
       "      <td>7.120480e+06</td>\n",
       "    </tr>\n",
       "  </tbody>\n",
       "</table>\n",
       "</div>"
      ],
      "text/plain": [
       "             Rating   Spec_score    No_of_sim          Ram      Battery  \\\n",
       "count   1222.000000  1222.000000  1222.000000  1222.000000  1222.000000   \n",
       "unique          NaN          NaN          NaN          NaN          NaN   \n",
       "top             NaN          NaN          NaN          NaN          NaN   \n",
       "freq            NaN          NaN          NaN          NaN          NaN   \n",
       "mean       4.377700    81.429624     4.783142     7.965630  4940.207038   \n",
       "std        0.228058     7.312127     0.577728     3.139476   507.580909   \n",
       "min        3.900000    53.000000     1.000000     2.000000  1050.000000   \n",
       "25%        4.200000    76.000000     4.000000     6.000000  4800.000000   \n",
       "50%        4.400000    83.000000     5.000000     8.000000  5000.000000   \n",
       "75%        4.550000    87.000000     5.000000     8.000000  5000.000000   \n",
       "max        4.750000    98.000000     6.000000    24.000000  7000.000000   \n",
       "\n",
       "            Display       Camera  External_Memory          Price company  \\\n",
       "count   1222.000000  1222.000000      1222.000000    1222.000000    1222   \n",
       "unique          NaN          NaN              NaN            NaN      21   \n",
       "top             NaN          NaN              NaN            NaN    vivo   \n",
       "freq            NaN          NaN              NaN            NaN     169   \n",
       "mean       6.680327    95.051555       426.919804   34723.023732     NaN   \n",
       "std        0.322478    53.780028       539.955346   30887.534367     NaN   \n",
       "min        5.000000     7.000000         0.000000    6950.000000     NaN   \n",
       "25%        6.560000    62.250000         0.000000   13999.000000     NaN   \n",
       "50%        6.670000    81.000000         0.000000   23990.000000     NaN   \n",
       "75%        6.750000   114.000000      1000.000000   43990.000000     NaN   \n",
       "max       12.100000   364.000000      2000.000000  214990.000000     NaN   \n",
       "\n",
       "        Inbuilt_memory  fast_charging  Screen_resolution  \n",
       "count      1222.000000    1222.000000       1.222000e+03  \n",
       "unique             NaN            NaN                NaN  \n",
       "top                NaN            NaN                NaN  \n",
       "freq               NaN            NaN                NaN  \n",
       "mean        181.036007      51.199673       2.651677e+06  \n",
       "std         113.813749      37.592532       9.445179e+05  \n",
       "min          32.000000       7.000000       5.896800e+05  \n",
       "25%         128.000000      20.500000       2.579040e+06  \n",
       "50%         128.000000      37.500000       2.592000e+06  \n",
       "75%         256.000000      67.000000       2.656800e+06  \n",
       "max        1000.000000     250.000000       7.120480e+06  "
      ]
     },
     "execution_count": 123,
     "metadata": {},
     "output_type": "execute_result"
    }
   ],
   "source": [
    "data.describe(include='all')"
   ]
  },
  {
   "cell_type": "markdown",
   "id": "aa90a947",
   "metadata": {},
   "source": [
    "## Define a function to remove Outliers"
   ]
  },
  {
   "cell_type": "code",
   "execution_count": 94,
   "id": "1d3caf6f",
   "metadata": {
    "ExecuteTime": {
     "end_time": "2024-06-19T12:01:43.120884Z",
     "start_time": "2024-06-19T12:01:43.112487Z"
    }
   },
   "outputs": [],
   "source": [
    "def outliers(data , column):\n",
    "    q1 = data[column].mean() + (3*data[column].std())\n",
    "    q2 = data[column].mean() - (3*data[column].std())\n",
    "    data = data[data[column]<q1]\n",
    "    data = data[data[column]>q2]\n",
    "    return data"
   ]
  },
  {
   "cell_type": "markdown",
   "id": "32338da2",
   "metadata": {},
   "source": [
    "## Remove outliers"
   ]
  },
  {
   "cell_type": "code",
   "execution_count": 95,
   "id": "b875e53d",
   "metadata": {
    "ExecuteTime": {
     "end_time": "2024-06-19T12:01:43.139243Z",
     "start_time": "2024-06-19T12:01:43.123358Z"
    }
   },
   "outputs": [],
   "source": [
    "data1 = outliers(data  , 'Ram')\n",
    "data2 = outliers(data1 , 'Battery')\n",
    "data3 = outliers(data2 , 'Display' )\n",
    "data4 = outliers(data3 , 'Camera')\n",
    "data5 = outliers(data4 , 'External_Memory')\n",
    "data6 = outliers(data5 , 'Price')\n",
    "data7 = outliers(data6 , 'Inbuilt_memory')\n",
    "data8 = outliers(data7 , 'fast_charging')\n",
    "data_cleaned = outliers(data8 , 'Screen_resolution')"
   ]
  },
  {
   "cell_type": "markdown",
   "id": "fe685938",
   "metadata": {},
   "source": [
    "## Get Dummy Variables"
   ]
  },
  {
   "cell_type": "code",
   "execution_count": 96,
   "id": "b15ec72c",
   "metadata": {
    "ExecuteTime": {
     "end_time": "2024-06-19T12:01:43.147757Z",
     "start_time": "2024-06-19T12:01:43.141783Z"
    }
   },
   "outputs": [],
   "source": [
    "data_cleaned = pd.get_dummies(data_cleaned, drop_first=True , dtype=int)"
   ]
  },
  {
   "cell_type": "markdown",
   "id": "6a695f27",
   "metadata": {},
   "source": [
    "## Normalize Price Column"
   ]
  },
  {
   "cell_type": "code",
   "execution_count": 126,
   "id": "2a719874",
   "metadata": {
    "ExecuteTime": {
     "end_time": "2024-06-19T13:01:38.950837Z",
     "start_time": "2024-06-19T13:01:38.943482Z"
    }
   },
   "outputs": [],
   "source": [
    "data_cleaned['log_price'] = np.log(data['Price'])"
   ]
  },
  {
   "cell_type": "markdown",
   "id": "ebb9c871",
   "metadata": {},
   "source": [
    "## Define our Variables"
   ]
  },
  {
   "cell_type": "code",
   "execution_count": 124,
   "id": "c6d1ac2b",
   "metadata": {
    "ExecuteTime": {
     "end_time": "2024-06-19T12:55:41.160404Z",
     "start_time": "2024-06-19T12:55:41.155167Z"
    }
   },
   "outputs": [],
   "source": [
    "target = data_cleaned['log_price']\n",
    "inputs = data_cleaned.drop(['log_price'],axis=1)"
   ]
  },
  {
   "cell_type": "markdown",
   "id": "6428beb8",
   "metadata": {},
   "source": [
    "## Scalling"
   ]
  },
  {
   "cell_type": "code",
   "execution_count": 125,
   "id": "47adfc4c",
   "metadata": {
    "ExecuteTime": {
     "end_time": "2024-06-19T12:55:44.146073Z",
     "start_time": "2024-06-19T12:55:44.133005Z"
    }
   },
   "outputs": [],
   "source": [
    "scaler = StandardScaler()\n",
    "scaler.fit(inputs)\n",
    "inputs_scaled = scaler.transform(inputs)"
   ]
  },
  {
   "cell_type": "markdown",
   "id": "811f5c4b",
   "metadata": {},
   "source": [
    "## Split the data"
   ]
  },
  {
   "cell_type": "code",
   "execution_count": 104,
   "id": "f9d45905",
   "metadata": {
    "ExecuteTime": {
     "end_time": "2024-06-19T12:03:42.380531Z",
     "start_time": "2024-06-19T12:03:42.364856Z"
    }
   },
   "outputs": [],
   "source": [
    "x_train , x_test , y_train , y_test = train_test_split(inputs_scaled , target , test_size= 0.2 ,random_state = 365)"
   ]
  },
  {
   "cell_type": "markdown",
   "id": "09e7ed2a",
   "metadata": {},
   "source": [
    "## Apply Linear Regression"
   ]
  },
  {
   "cell_type": "code",
   "execution_count": 106,
   "id": "e59b03ac",
   "metadata": {
    "ExecuteTime": {
     "end_time": "2024-06-19T12:04:15.176270Z",
     "start_time": "2024-06-19T12:04:15.151835Z"
    }
   },
   "outputs": [
    {
     "data": {
      "text/html": [
       "<style>#sk-container-id-3 {color: black;}#sk-container-id-3 pre{padding: 0;}#sk-container-id-3 div.sk-toggleable {background-color: white;}#sk-container-id-3 label.sk-toggleable__label {cursor: pointer;display: block;width: 100%;margin-bottom: 0;padding: 0.3em;box-sizing: border-box;text-align: center;}#sk-container-id-3 label.sk-toggleable__label-arrow:before {content: \"▸\";float: left;margin-right: 0.25em;color: #696969;}#sk-container-id-3 label.sk-toggleable__label-arrow:hover:before {color: black;}#sk-container-id-3 div.sk-estimator:hover label.sk-toggleable__label-arrow:before {color: black;}#sk-container-id-3 div.sk-toggleable__content {max-height: 0;max-width: 0;overflow: hidden;text-align: left;background-color: #f0f8ff;}#sk-container-id-3 div.sk-toggleable__content pre {margin: 0.2em;color: black;border-radius: 0.25em;background-color: #f0f8ff;}#sk-container-id-3 input.sk-toggleable__control:checked~div.sk-toggleable__content {max-height: 200px;max-width: 100%;overflow: auto;}#sk-container-id-3 input.sk-toggleable__control:checked~label.sk-toggleable__label-arrow:before {content: \"▾\";}#sk-container-id-3 div.sk-estimator input.sk-toggleable__control:checked~label.sk-toggleable__label {background-color: #d4ebff;}#sk-container-id-3 div.sk-label input.sk-toggleable__control:checked~label.sk-toggleable__label {background-color: #d4ebff;}#sk-container-id-3 input.sk-hidden--visually {border: 0;clip: rect(1px 1px 1px 1px);clip: rect(1px, 1px, 1px, 1px);height: 1px;margin: -1px;overflow: hidden;padding: 0;position: absolute;width: 1px;}#sk-container-id-3 div.sk-estimator {font-family: monospace;background-color: #f0f8ff;border: 1px dotted black;border-radius: 0.25em;box-sizing: border-box;margin-bottom: 0.5em;}#sk-container-id-3 div.sk-estimator:hover {background-color: #d4ebff;}#sk-container-id-3 div.sk-parallel-item::after {content: \"\";width: 100%;border-bottom: 1px solid gray;flex-grow: 1;}#sk-container-id-3 div.sk-label:hover label.sk-toggleable__label {background-color: #d4ebff;}#sk-container-id-3 div.sk-serial::before {content: \"\";position: absolute;border-left: 1px solid gray;box-sizing: border-box;top: 0;bottom: 0;left: 50%;z-index: 0;}#sk-container-id-3 div.sk-serial {display: flex;flex-direction: column;align-items: center;background-color: white;padding-right: 0.2em;padding-left: 0.2em;position: relative;}#sk-container-id-3 div.sk-item {position: relative;z-index: 1;}#sk-container-id-3 div.sk-parallel {display: flex;align-items: stretch;justify-content: center;background-color: white;position: relative;}#sk-container-id-3 div.sk-item::before, #sk-container-id-3 div.sk-parallel-item::before {content: \"\";position: absolute;border-left: 1px solid gray;box-sizing: border-box;top: 0;bottom: 0;left: 50%;z-index: -1;}#sk-container-id-3 div.sk-parallel-item {display: flex;flex-direction: column;z-index: 1;position: relative;background-color: white;}#sk-container-id-3 div.sk-parallel-item:first-child::after {align-self: flex-end;width: 50%;}#sk-container-id-3 div.sk-parallel-item:last-child::after {align-self: flex-start;width: 50%;}#sk-container-id-3 div.sk-parallel-item:only-child::after {width: 0;}#sk-container-id-3 div.sk-dashed-wrapped {border: 1px dashed gray;margin: 0 0.4em 0.5em 0.4em;box-sizing: border-box;padding-bottom: 0.4em;background-color: white;}#sk-container-id-3 div.sk-label label {font-family: monospace;font-weight: bold;display: inline-block;line-height: 1.2em;}#sk-container-id-3 div.sk-label-container {text-align: center;}#sk-container-id-3 div.sk-container {/* jupyter's `normalize.less` sets `[hidden] { display: none; }` but bootstrap.min.css set `[hidden] { display: none !important; }` so we also need the `!important` here to be able to override the default hidden behavior on the sphinx rendered scikit-learn.org. See: https://github.com/scikit-learn/scikit-learn/issues/21755 */display: inline-block !important;position: relative;}#sk-container-id-3 div.sk-text-repr-fallback {display: none;}</style><div id=\"sk-container-id-3\" class=\"sk-top-container\"><div class=\"sk-text-repr-fallback\"><pre>LinearRegression()</pre><b>In a Jupyter environment, please rerun this cell to show the HTML representation or trust the notebook. <br />On GitHub, the HTML representation is unable to render, please try loading this page with nbviewer.org.</b></div><div class=\"sk-container\" hidden><div class=\"sk-item\"><div class=\"sk-estimator sk-toggleable\"><input class=\"sk-toggleable__control sk-hidden--visually\" id=\"sk-estimator-id-3\" type=\"checkbox\" checked><label for=\"sk-estimator-id-3\" class=\"sk-toggleable__label sk-toggleable__label-arrow\">LinearRegression</label><div class=\"sk-toggleable__content\"><pre>LinearRegression()</pre></div></div></div></div></div>"
      ],
      "text/plain": [
       "LinearRegression()"
      ]
     },
     "execution_count": 106,
     "metadata": {},
     "output_type": "execute_result"
    }
   ],
   "source": [
    "reg = LinearRegression()\n",
    "reg.fit(x_train , y_train)"
   ]
  },
  {
   "cell_type": "markdown",
   "id": "71cd8b07",
   "metadata": {},
   "source": [
    "## Create Summary Table"
   ]
  },
  {
   "cell_type": "code",
   "execution_count": 115,
   "id": "ef25e133",
   "metadata": {
    "ExecuteTime": {
     "end_time": "2024-06-19T12:10:12.822921Z",
     "start_time": "2024-06-19T12:10:12.797552Z"
    }
   },
   "outputs": [
    {
     "data": {
      "text/html": [
       "<div>\n",
       "<style scoped>\n",
       "    .dataframe tbody tr th:only-of-type {\n",
       "        vertical-align: middle;\n",
       "    }\n",
       "\n",
       "    .dataframe tbody tr th {\n",
       "        vertical-align: top;\n",
       "    }\n",
       "\n",
       "    .dataframe thead th {\n",
       "        text-align: right;\n",
       "    }\n",
       "</style>\n",
       "<table border=\"1\" class=\"dataframe\">\n",
       "  <thead>\n",
       "    <tr style=\"text-align: right;\">\n",
       "      <th></th>\n",
       "      <th>Features</th>\n",
       "      <th>Coef</th>\n",
       "      <th>p-value</th>\n",
       "    </tr>\n",
       "  </thead>\n",
       "  <tbody>\n",
       "    <tr>\n",
       "      <th>0</th>\n",
       "      <td>Rating</td>\n",
       "      <td>-0.004558</td>\n",
       "      <td>0.515</td>\n",
       "    </tr>\n",
       "    <tr>\n",
       "      <th>1</th>\n",
       "      <td>Spec_score</td>\n",
       "      <td>0.235835</td>\n",
       "      <td>0.000</td>\n",
       "    </tr>\n",
       "    <tr>\n",
       "      <th>2</th>\n",
       "      <td>No_of_sim</td>\n",
       "      <td>0.086533</td>\n",
       "      <td>0.000</td>\n",
       "    </tr>\n",
       "    <tr>\n",
       "      <th>3</th>\n",
       "      <td>Ram</td>\n",
       "      <td>0.019708</td>\n",
       "      <td>0.000</td>\n",
       "    </tr>\n",
       "    <tr>\n",
       "      <th>4</th>\n",
       "      <td>Battery</td>\n",
       "      <td>-0.104233</td>\n",
       "      <td>0.000</td>\n",
       "    </tr>\n",
       "    <tr>\n",
       "      <th>5</th>\n",
       "      <td>Display</td>\n",
       "      <td>0.059367</td>\n",
       "      <td>0.000</td>\n",
       "    </tr>\n",
       "    <tr>\n",
       "      <th>6</th>\n",
       "      <td>Camera</td>\n",
       "      <td>0.019346</td>\n",
       "      <td>0.000</td>\n",
       "    </tr>\n",
       "    <tr>\n",
       "      <th>7</th>\n",
       "      <td>External_Memory</td>\n",
       "      <td>-0.128935</td>\n",
       "      <td>0.000</td>\n",
       "    </tr>\n",
       "    <tr>\n",
       "      <th>8</th>\n",
       "      <td>Inbuilt_memory</td>\n",
       "      <td>0.044712</td>\n",
       "      <td>0.000</td>\n",
       "    </tr>\n",
       "    <tr>\n",
       "      <th>9</th>\n",
       "      <td>fast_charging</td>\n",
       "      <td>0.051096</td>\n",
       "      <td>0.000</td>\n",
       "    </tr>\n",
       "    <tr>\n",
       "      <th>10</th>\n",
       "      <td>Screen_resolution</td>\n",
       "      <td>0.064466</td>\n",
       "      <td>0.000</td>\n",
       "    </tr>\n",
       "    <tr>\n",
       "      <th>11</th>\n",
       "      <td>company_coolpad</td>\n",
       "      <td>-0.024236</td>\n",
       "      <td>0.916</td>\n",
       "    </tr>\n",
       "    <tr>\n",
       "      <th>12</th>\n",
       "      <td>company_gionee</td>\n",
       "      <td>-0.023387</td>\n",
       "      <td>0.242</td>\n",
       "    </tr>\n",
       "    <tr>\n",
       "      <th>13</th>\n",
       "      <td>company_google</td>\n",
       "      <td>0.008036</td>\n",
       "      <td>0.000</td>\n",
       "    </tr>\n",
       "    <tr>\n",
       "      <th>14</th>\n",
       "      <td>company_honor</td>\n",
       "      <td>-0.195333</td>\n",
       "      <td>0.050</td>\n",
       "    </tr>\n",
       "    <tr>\n",
       "      <th>15</th>\n",
       "      <td>company_huawei</td>\n",
       "      <td>-0.081067</td>\n",
       "      <td>0.000</td>\n",
       "    </tr>\n",
       "    <tr>\n",
       "      <th>16</th>\n",
       "      <td>company_iqoo</td>\n",
       "      <td>-0.180655</td>\n",
       "      <td>0.093</td>\n",
       "    </tr>\n",
       "    <tr>\n",
       "      <th>17</th>\n",
       "      <td>company_itel</td>\n",
       "      <td>-0.109417</td>\n",
       "      <td>0.000</td>\n",
       "    </tr>\n",
       "    <tr>\n",
       "      <th>18</th>\n",
       "      <td>company_lava</td>\n",
       "      <td>-0.110974</td>\n",
       "      <td>0.000</td>\n",
       "    </tr>\n",
       "    <tr>\n",
       "      <th>19</th>\n",
       "      <td>company_lenovo</td>\n",
       "      <td>-0.069102</td>\n",
       "      <td>0.916</td>\n",
       "    </tr>\n",
       "    <tr>\n",
       "      <th>20</th>\n",
       "      <td>company_lg</td>\n",
       "      <td>-0.011236</td>\n",
       "      <td>0.002</td>\n",
       "    </tr>\n",
       "    <tr>\n",
       "      <th>21</th>\n",
       "      <td>company_motorola</td>\n",
       "      <td>-0.227905</td>\n",
       "      <td>0.317</td>\n",
       "    </tr>\n",
       "    <tr>\n",
       "      <th>22</th>\n",
       "      <td>company_oneplus</td>\n",
       "      <td>-0.197162</td>\n",
       "      <td>0.000</td>\n",
       "    </tr>\n",
       "    <tr>\n",
       "      <th>23</th>\n",
       "      <td>company_oppo</td>\n",
       "      <td>-0.164762</td>\n",
       "      <td>0.000</td>\n",
       "    </tr>\n",
       "    <tr>\n",
       "      <th>24</th>\n",
       "      <td>company_poco</td>\n",
       "      <td>-0.264661</td>\n",
       "      <td>0.000</td>\n",
       "    </tr>\n",
       "    <tr>\n",
       "      <th>25</th>\n",
       "      <td>company_realme</td>\n",
       "      <td>-0.304051</td>\n",
       "      <td>0.000</td>\n",
       "    </tr>\n",
       "    <tr>\n",
       "      <th>26</th>\n",
       "      <td>company_samsung</td>\n",
       "      <td>-0.204303</td>\n",
       "      <td>0.612</td>\n",
       "    </tr>\n",
       "    <tr>\n",
       "      <th>27</th>\n",
       "      <td>company_tcl</td>\n",
       "      <td>-0.095518</td>\n",
       "      <td>0.023</td>\n",
       "    </tr>\n",
       "    <tr>\n",
       "      <th>28</th>\n",
       "      <td>company_tecno</td>\n",
       "      <td>-0.040502</td>\n",
       "      <td>0.000</td>\n",
       "    </tr>\n",
       "    <tr>\n",
       "      <th>29</th>\n",
       "      <td>company_vivo</td>\n",
       "      <td>-0.267260</td>\n",
       "      <td>0.366</td>\n",
       "    </tr>\n",
       "    <tr>\n",
       "      <th>30</th>\n",
       "      <td>company_xiaomi</td>\n",
       "      <td>-0.258587</td>\n",
       "      <td>0.000</td>\n",
       "    </tr>\n",
       "  </tbody>\n",
       "</table>\n",
       "</div>"
      ],
      "text/plain": [
       "             Features      Coef  p-value\n",
       "0              Rating -0.004558    0.515\n",
       "1          Spec_score  0.235835    0.000\n",
       "2           No_of_sim  0.086533    0.000\n",
       "3                 Ram  0.019708    0.000\n",
       "4             Battery -0.104233    0.000\n",
       "5             Display  0.059367    0.000\n",
       "6              Camera  0.019346    0.000\n",
       "7     External_Memory -0.128935    0.000\n",
       "8      Inbuilt_memory  0.044712    0.000\n",
       "9       fast_charging  0.051096    0.000\n",
       "10  Screen_resolution  0.064466    0.000\n",
       "11    company_coolpad -0.024236    0.916\n",
       "12     company_gionee -0.023387    0.242\n",
       "13     company_google  0.008036    0.000\n",
       "14      company_honor -0.195333    0.050\n",
       "15     company_huawei -0.081067    0.000\n",
       "16       company_iqoo -0.180655    0.093\n",
       "17       company_itel -0.109417    0.000\n",
       "18       company_lava -0.110974    0.000\n",
       "19     company_lenovo -0.069102    0.916\n",
       "20         company_lg -0.011236    0.002\n",
       "21   company_motorola -0.227905    0.317\n",
       "22    company_oneplus -0.197162    0.000\n",
       "23       company_oppo -0.164762    0.000\n",
       "24       company_poco -0.264661    0.000\n",
       "25     company_realme -0.304051    0.000\n",
       "26    company_samsung -0.204303    0.612\n",
       "27        company_tcl -0.095518    0.023\n",
       "28      company_tecno -0.040502    0.000\n",
       "29       company_vivo -0.267260    0.366\n",
       "30     company_xiaomi -0.258587    0.000"
      ]
     },
     "execution_count": 115,
     "metadata": {},
     "output_type": "execute_result"
    }
   ],
   "source": [
    "summary = pd.DataFrame(data = inputs.columns.values , columns=['Features'])\n",
    "summary['Coef'] = reg.coef_\n",
    "summary['p-value'] = f_regression(inputs_scaled,target)[1].round(3)\n",
    "summary"
   ]
  },
  {
   "cell_type": "markdown",
   "id": "db45f0b7",
   "metadata": {},
   "source": [
    "## Check Linearity of Results"
   ]
  },
  {
   "cell_type": "code",
   "execution_count": 116,
   "id": "011f9028",
   "metadata": {
    "ExecuteTime": {
     "end_time": "2024-06-19T12:10:34.497824Z",
     "start_time": "2024-06-19T12:10:34.145436Z"
    }
   },
   "outputs": [
    {
     "data": {
      "text/plain": [
       "<matplotlib.collections.PathCollection at 0x1d4395a5950>"
      ]
     },
     "execution_count": 116,
     "metadata": {},
     "output_type": "execute_result"
    },
    {
     "data": {
      "image/png": "[encoded data removed]",
      "text/plain": [
       "<Figure size 640x480 with 1 Axes>"
      ]
     },
     "metadata": {},
     "output_type": "display_data"
    }
   ],
   "source": [
    "plt.scatter(y_train , reg.predict(x_train))"
   ]
  },
  {
   "cell_type": "markdown",
   "id": "4685049b",
   "metadata": {},
   "source": [
    "## Test our Model"
   ]
  },
  {
   "cell_type": "code",
   "execution_count": 117,
   "id": "4809c313",
   "metadata": {
    "ExecuteTime": {
     "end_time": "2024-06-19T12:12:14.326296Z",
     "start_time": "2024-06-19T12:12:14.317670Z"
    }
   },
   "outputs": [],
   "source": [
    "test = pd.DataFrame()\n",
    "test['Actual'] = y_test\n",
    "test['Predicted'] = reg.predict(x_test)\n",
    "test['Residual'] = y_test - reg.predict(x_test)"
   ]
  },
  {
   "cell_type": "markdown",
   "id": "c627c473",
   "metadata": {},
   "source": [
    "## Check our Accuracy"
   ]
  },
  {
   "cell_type": "code",
   "execution_count": 128,
   "id": "74d4475b",
   "metadata": {
    "ExecuteTime": {
     "end_time": "2024-06-19T13:05:09.144703Z",
     "start_time": "2024-06-19T13:05:09.136068Z"
    }
   },
   "outputs": [
    {
     "data": {
      "text/plain": [
       "99.99107192477966"
      ]
     },
     "execution_count": 128,
     "metadata": {},
     "output_type": "execute_result"
    }
   ],
   "source": [
    "accuracy = 100 - abs(test['Residual'].mean()) \n",
    "accuracy"
   ]
  }
 ],
 "metadata": {
  "kernelspec": {
   "display_name": "Python 3 (ipykernel)",
   "language": "python",
   "name": "python3"
  },
  "language_info": {
   "codemirror_mode": {
    "name": "ipython",
    "version": 3
   },
   "file_extension": ".py",
   "mimetype": "text/x-python",
   "name": "python",
   "nbconvert_exporter": "python",
   "pygments_lexer": "ipython3",
   "version": "3.11.5"
  }
 },
 "nbformat": 4,
 "nbformat_minor": 5
}
